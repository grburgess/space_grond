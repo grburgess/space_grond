{
 "cells": [
  {
   "cell_type": "code",
   "execution_count": null,
   "metadata": {
    "ExecuteTime": {
     "end_time": "2020-06-24T09:25:55.295115Z",
     "start_time": "2020-06-24T09:25:55.286520Z"
    }
   },
   "outputs": [],
   "source": [
    "import numpy as np\n",
    "import astropy.units as u\n",
    "import astropy.time as astro_time\n",
    "from astropy.coordinates import get_sun, get_moon, get_body\n",
    "\n",
    "\n",
    "import ipyvolume as ipv\n",
    "\n",
    "\n",
    "from gbmgeometry.utils.plotting.heavenly_bodies import Earth\n",
    "from gbmgeometry.geometry.sphere import Sphere\n",
    "\n",
    "from space_grond import Orbit"
   ]
  },
  {
   "cell_type": "markdown",
   "metadata": {},
   "source": [
    "Create some objects for plotting"
   ]
  },
  {
   "cell_type": "code",
   "execution_count": 55,
   "metadata": {
    "ExecuteTime": {
     "end_time": "2020-06-24T09:25:55.295115Z",
     "start_time": "2020-06-24T09:25:55.286520Z"
    }
   },
   "outputs": [],
   "source": [
    "class Sat(Sphere):\n",
    "    def __init__(self, x, y, z, color=\"#10DC9B\"):\n",
    "        \"\"\"\n",
    "        A dummy point for fermi to keep sizes in check\n",
    "        \"\"\"\n",
    "\n",
    "        super(Sat, self).__init__(\n",
    "            ax=None, x=x, y=y, z=z, detail_level=20, radius=200.0, color=color,\n",
    "        )\n",
    "        \n",
    "        \n",
    "class Sun(Sphere):\n",
    "    def __init__(self, x, y, z, color=\"#10DC9B\"):\n",
    "        \"\"\"\n",
    "        A dummy point for fermi to keep sizes in check\n",
    "        \"\"\"\n",
    "\n",
    "        \n",
    "        \n",
    "        \n",
    "        super(Sun, self).__init__(\n",
    "            ax=None, x=x, y=y, z=z, detail_level=20, radius=1000.0, color=\"yellow\",\n",
    "        )\n",
    "        \n",
    "        "
   ]
  },
  {
   "cell_type": "code",
   "execution_count": 61,
   "metadata": {
    "ExecuteTime": {
     "end_time": "2020-06-24T11:48:51.251409Z",
     "start_time": "2020-06-24T11:48:51.240196Z"
    },
    "code_folding": []
   },
   "outputs": [],
   "source": [
    "def animate_in_space(orbit, time):\n",
    "    \"\"\"\n",
    "   \n",
    "    \"\"\"\n",
    "\n",
    "    fig = ipv.figure()\n",
    "\n",
    "    ipv.pylab.style.box_off()\n",
    "    #ipv.pylab.style.axes_off()\n",
    "    ipv.pylab.style.set_style_dark()\n",
    "    ipv.pylab.style.background_color(\"black\")\n",
    "\n",
    "    realistic = True\n",
    "    \n",
    "    artists = []\n",
    "\n",
    "    earth = Earth(            earth_time=\"day\", realistic=realistic, astro_time=time)\n",
    "\n",
    "    tmp = earth.plot()\n",
    "\n",
    "    if realistic:\n",
    "        artists.append(tmp)\n",
    "\n",
    "            \n",
    "    pos = orbit.r_eci(time).to(\"km\")\n",
    "    # now get sat position\n",
    "    sxs = pos[0].value\n",
    "    sys = pos[1].value\n",
    "    szs = pos[2].value\n",
    "    sat = Sat(sxs, sys, szs)\n",
    "    artists.append(sat.plot())\n",
    "    \n",
    "    sun_pos = []\n",
    "    for vec in get_sun(time).cartesian.xyz.to(\"km\").value.T:\n",
    "    \n",
    "        norm = (vec/np.linalg.norm(vec)) * 15000 \n",
    "        \n",
    "        sun_pos.append(norm.tolist())\n",
    "        \n",
    "        \n",
    "        \n",
    "    sun_pos = np.array(sun_pos).T\n",
    "    \n",
    "    sun = Sun(sun_pos[0, :], sun_pos[1, :], sun_pos[2, :])\n",
    "    artists.append(sun.plot())\n",
    "\n",
    "\n",
    "    ipv.xyzlim(20000.)\n",
    "\n",
    "    ipv.animation_control(artists, interval=500)\n",
    "\n",
    "    ipv.show()\n",
    "\n",
    "    return fig"
   ]
  },
  {
   "cell_type": "markdown",
   "metadata": {},
   "source": [
    "Initialize some variables"
   ]
  },
  {
   "cell_type": "code",
   "execution_count": 60,
   "metadata": {
    "ExecuteTime": {
     "end_time": "2020-06-24T11:48:49.092273Z",
     "start_time": "2020-06-24T11:48:49.082542Z"
    }
   },
   "outputs": [],
   "source": [
    "alt =  1000 * u.km\n",
    "t0  = astro_time.Time(53005, format=\"mjd\")\n",
    "orbit = Orbit(a=alt, t0=t0, u0 = 0 * u.deg)\n",
    "time = t0 + (np.linspace(100,105, 2000) * u.day)"
   ]
  },
  {
   "cell_type": "code",
   "execution_count": 62,
   "metadata": {
    "ExecuteTime": {
     "end_time": "2020-06-24T11:49:11.205415Z",
     "start_time": "2020-06-24T11:48:54.320577Z"
    },
    "scrolled": false
   },
   "outputs": [
    {
     "data": {
      "application/vnd.jupyter.widget-view+json": {
       "model_id": "000ac414db3d4c98b9b399c6c4d90345",
       "version_major": 2,
       "version_minor": 0
      },
      "text/plain": [
       "VBox(children=(Figure(animation=500.0, camera=PerspectiveCamera(fov=45.0, position=(0.0, 0.0, 2.0), quaternion…"
      ]
     },
     "metadata": {},
     "output_type": "display_data"
    }
   ],
   "source": [
    "animate_in_space(orbit,time);"
   ]
  },
  {
   "cell_type": "code",
   "execution_count": null,
   "metadata": {},
   "outputs": [],
   "source": [
    "get"
   ]
  }
 ],
 "metadata": {
  "kernelspec": {
   "display_name": "orbit",
   "language": "python",
   "name": "orbit"
  },
  "language_info": {
   "codemirror_mode": {
    "name": "ipython",
    "version": 3
   },
   "file_extension": ".py",
   "mimetype": "text/x-python",
   "name": "python",
   "nbconvert_exporter": "python",
   "pygments_lexer": "ipython3",
   "version": "3.7.7"
  }
 },
 "nbformat": 4,
 "nbformat_minor": 4
}
